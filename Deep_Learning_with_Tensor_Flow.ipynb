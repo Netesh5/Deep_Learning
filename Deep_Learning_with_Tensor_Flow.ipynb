{
  "nbformat": 4,
  "nbformat_minor": 0,
  "metadata": {
    "colab": {
      "provenance": [],
      "authorship_tag": "ABX9TyM9Gk4mJPUKY6aIYbmcPBOg",
      "include_colab_link": true
    },
    "kernelspec": {
      "name": "python3",
      "display_name": "Python 3"
    },
    "language_info": {
      "name": "python"
    }
  },
  "cells": [
    {
      "cell_type": "markdown",
      "metadata": {
        "id": "view-in-github",
        "colab_type": "text"
      },
      "source": [
        "<a href=\"https://colab.research.google.com/github/Netesh5/Deep_Learning/blob/main/Deep_Learning_with_Tensor_Flow.ipynb\" target=\"_parent\"><img src=\"https://colab.research.google.com/assets/colab-badge.svg\" alt=\"Open In Colab\"/></a>"
      ]
    },
    {
      "cell_type": "code",
      "execution_count": null,
      "metadata": {
        "id": "m2m9Ian3S6P-"
      },
      "outputs": [],
      "source": [
        "import tensorflow as tf"
      ]
    },
    {
      "cell_type": "code",
      "source": [
        "node1=tf.constant(5.0,tf.float32)\n",
        "node2=tf.constant(3.0)"
      ],
      "metadata": {
        "id": "CnSvvAhUTTXT"
      },
      "execution_count": null,
      "outputs": []
    },
    {
      "cell_type": "code",
      "source": [
        "print(node1,node2)"
      ],
      "metadata": {
        "colab": {
          "base_uri": "https://localhost:8080/"
        },
        "id": "608_tGaYUZ8i",
        "outputId": "689f0508-9b4e-47e7-e4d5-dda681a71bc4"
      },
      "execution_count": null,
      "outputs": [
        {
          "output_type": "stream",
          "name": "stdout",
          "text": [
            "tf.Tensor(5.0, shape=(), dtype=float32) tf.Tensor(3.0, shape=(), dtype=float32)\n"
          ]
        }
      ]
    },
    {
      "cell_type": "code",
      "source": [
        "## If we want to run through session then we can use\n",
        "## sess= ts.Session() // ts.compat.v1.Session()\n",
        "## print(sess.run([node1,node2]))"
      ],
      "metadata": {
        "id": "tnuJoQXNUf-7"
      },
      "execution_count": null,
      "outputs": []
    },
    {
      "cell_type": "markdown",
      "source": [
        "# General TesnorFlow Operations"
      ],
      "metadata": {
        "id": "hW1ZDmH0iuGO"
      }
    },
    {
      "cell_type": "code",
      "source": [
        "a=tf.constant(5)\n",
        "b=tf.constant(6)\n",
        "c=tf.constant(7)\n",
        "\n",
        "add=tf.add(a,b)\n",
        "mul=tf.multiply(b,c)\n",
        "sub=tf.subtract(c,b)\n",
        "\n",
        "print(add)\n",
        "print(mul)\n",
        "print(sub)\n"
      ],
      "metadata": {
        "colab": {
          "base_uri": "https://localhost:8080/"
        },
        "id": "tb9vm160XBrL",
        "outputId": "0ea46b2d-057a-43a4-ac7a-4cf28f420d55"
      },
      "execution_count": null,
      "outputs": [
        {
          "output_type": "stream",
          "name": "stdout",
          "text": [
            "tf.Tensor(11, shape=(), dtype=int32)\n",
            "tf.Tensor(42, shape=(), dtype=int32)\n",
            "tf.Tensor(1, shape=(), dtype=int32)\n"
          ]
        }
      ]
    },
    {
      "cell_type": "code",
      "source": [
        "## Placeholder\n",
        "tf.compat.v1.disable_eager_execution()\n",
        "place_a=tf.compat.v1.placeholder(tf.float32)\n",
        "place_b=tf.compat.v1.placeholder(tf.float32)\n",
        "\n",
        "\n",
        "node=place_a+place_b\n",
        "print(node,{place_a:[4,5],place_b:[6,7]})\n"
      ],
      "metadata": {
        "id": "4bbSbSn-jLPh",
        "colab": {
          "base_uri": "https://localhost:8080/"
        },
        "outputId": "7e6068a9-973b-4685-d351-ff7a09d441b6"
      },
      "execution_count": null,
      "outputs": [
        {
          "output_type": "stream",
          "name": "stdout",
          "text": [
            "Tensor(\"add:0\", dtype=float32) {<tf.Tensor 'Placeholder_1:0' shape=<unknown> dtype=float32>: [4, 5], <tf.Tensor 'Placeholder_2:0' shape=<unknown> dtype=float32>: [6, 7]}\n"
          ]
        }
      ]
    },
    {
      "cell_type": "code",
      "source": [],
      "metadata": {
        "id": "AEcv5wmsg2XP"
      },
      "execution_count": null,
      "outputs": []
    }
  ]
}